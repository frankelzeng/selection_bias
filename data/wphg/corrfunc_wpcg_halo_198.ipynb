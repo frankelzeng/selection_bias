{
 "cells": [
  {
   "cell_type": "code",
   "execution_count": 7,
   "metadata": {
    "scrolled": true
   },
   "outputs": [],
   "source": [
    "from matplotlib import rcParams\n",
    "import matplotlib.pyplot as plt\n",
    "\n",
    "import numpy as np\n",
    "%matplotlib inline\n",
    "import h5py as h5\n",
    "from Corrfunc.mocks.DDrppi_mocks import DDrppi_mocks\n",
    "from Corrfunc.utils import convert_rp_pi_counts_to_wp\n",
    "from corr_func import *\n",
    "import fitsio\n",
    "\n",
    "from Corrfunc.theory.DD import DD\n",
    "from Corrfunc.utils import convert_3d_counts_to_cf\n",
    "\n",
    "import matplotlib\n",
    "font = {'family' : 'serif',\n",
    "        'weight' : 'normal',\n",
    "        'size'   : 20}\n",
    "from matplotlib import gridspec\n",
    "\n",
    "matplotlib.rc('font', **font)"
   ]
  },
  {
   "cell_type": "markdown",
   "metadata": {},
   "source": [
    "## Read RedMapper H5 file (1.9.8)"
   ]
  },
  {
   "cell_type": "code",
   "execution_count": null,
   "metadata": {},
   "outputs": [],
   "source": [
    "# class ReadY3H5Files(object):\n",
    "#     \"\"\"Read Y3 H5 files and set up atributes \"\"\"\n",
    "#     def __init__(self, fname):\n",
    "#         self.fname = fname\n",
    "#     def get_redmapper(self):\n",
    "#         f = h5.File(self.fname, 'r')\n",
    "#         data = f['catalog/redmapper/lgt20']\n",
    "#         self.redmapper_id = data['mem_match_id'][:]\n",
    "#         self.lam = data['lambda_chisq'][:]\n",
    "#         self.ra = data['ra'][:]\n",
    "#         self.dec = data['dec'][:]\n",
    "#         self.z = data['z_lambda'][:]\n",
    "#         f.close()\n",
    "#     def get_redmagic(self):\n",
    "#         f = h5.File(self.fname, 'r')\n",
    "#         data = f['catalog/redmagic/higherlum']\n",
    "#         self.ra_rand = data['ra'][:]\n",
    "#         self.dec_rand = data['dec'][:]"
   ]
  },
  {
   "cell_type": "code",
   "execution_count": null,
   "metadata": {},
   "outputs": [],
   "source": [
    "# fname = 'buzzard-1.9.8_3y3a_run_redmapper_v6.4.22.h5'\n",
    "# f = h5.File(fname, 'r')\n",
    "# data = f['catalog/redmapper/lgt20']\n",
    "\n",
    "# ra = data['ra'][:] \n",
    "# dec = data['dec'][:]\n",
    "# z = data['z_lambda'][:]\n",
    "\n",
    "# mask_0305 = [Z < 0.5 and Z > 0.3 for Z in z]\n",
    "# RA_zlam = ra[mask_0305]\n",
    "# DEC_zlam = dec[mask_0305]\n",
    "# CZ_zlam = 299792. * z[mask_0305]\n",
    "\n",
    "# print len(RA_zlam), len(DEC_zlam), len(CZ_zlam)"
   ]
  },
  {
   "cell_type": "markdown",
   "metadata": {},
   "source": [
    "## Read Mock FITS file"
   ]
  },
  {
   "cell_type": "code",
   "execution_count": null,
   "metadata": {},
   "outputs": [],
   "source": [
    "#catalog = buzzard_1.9.9_3y3a_rsshift_run_redmagic_highdens.fit\n",
    "#randoms = buzzard_1.9.9_3y3a_rsshift_run_redmagic_highdens_randoms.fit\n",
    "\n",
    "fname = 'buzzard_1.9.9_3y3a_rsshift_run_redmagic_highdens.fit'\n",
    "\n",
    "d,h = fitsio.read(fname, header=True)\n",
    "#print h\n",
    "\n",
    "z_low = 0.3\n",
    "z_high = 0.5\n",
    "\n",
    "d_zred = z_cut(d, 'zredmagic', z_low, z_high)\n",
    "RA_zred = d_zred['ra']\n",
    "DEC_zred = d_zred['dec']\n",
    "CZ_zred = 299792. * d_zred['zredmagic']\n",
    "\n",
    "print len(d_zred)\n",
    "\n",
    "d_zspec = z_cut(d, 'zspec', z_low, z_high)\n",
    "RA_zspec = d_zspec['ra']\n",
    "DEC_zspec = d_zspec['dec']\n",
    "CZ_zspec = 299792. * d_zspec['zspec']\n",
    "\n",
    "print len(d_zspec)"
   ]
  },
  {
   "cell_type": "markdown",
   "metadata": {},
   "source": [
    "## Read Rand FITS file"
   ]
  },
  {
   "cell_type": "code",
   "execution_count": null,
   "metadata": {
    "scrolled": true
   },
   "outputs": [],
   "source": [
    "rname = 'buzzard_1.9.9_3y3a_rsshift_run_redmagic_highdens_randoms.fit'\n",
    "\n",
    "d_rand, h_rand = fitsio.read(rname, header=True)\n",
    "#print h_rand\n",
    "#print d.dtype\n",
    "\n",
    "d_rand = z_cut(d_rand, 'z', z_low, z_high)\n",
    "RA_rand = d_rand['ra']\n",
    "DEC_rand = d_rand['dec']\n",
    "CZ_rand = 299792. * d_rand['z']\n",
    "\n",
    "np.random.seed(200)\n",
    "CZ_randzspec = np.random.choice(CZ_zspec, size=len(RA_rand), replace=True)\n",
    "print len(RA_rand)\n",
    "\n",
    "#plt.hist(CZ_rand, normed=True, bins=50) "
   ]
  },
  {
   "cell_type": "code",
   "execution_count": null,
   "metadata": {},
   "outputs": [],
   "source": [
    "plt.hist(CZ_rand, normed=True, bins=50, histtype='step', color='blue', label=\"CZ_rand\")\n",
    "plt.hist(CZ_randzspec, normed=True, bins=50, histtype='step', color='red', label='CZ_rand_zspec')\n",
    "plt.hist(CZ_zspec, normed=True, bins=50, histtype='step', color='black', label=\"CZ_zspec\")\n",
    "plt.hist(CZ_zspec_noise, normed=True, bins=50, histtype='step', color='orange', label=\"CZ_zspec_noise\")\n",
    "plt.legend(loc='lower right')"
   ]
  },
  {
   "cell_type": "markdown",
   "metadata": {},
   "source": [
    "## $\\sigma_z$ vs z"
   ]
  },
  {
   "cell_type": "code",
   "execution_count": null,
   "metadata": {},
   "outputs": [],
   "source": [
    "from scipy.stats import norm\n",
    "from scipy.interpolate import interp1d\n",
    "\n",
    "fig, ax = plt.subplots(3, figsize=(10,10))\n",
    "\n",
    "width = 0.1\n",
    "z_high_lim = 0.8\n",
    "std_list = []\n",
    "mu_list = []\n",
    "z_spec_mean = []\n",
    "\n",
    "fig.suptitle('$\\sigma_z$ with redshift bin width ' + str(width),fontsize=20)\n",
    "\n",
    "for z in np.arange(0, z_high_lim, width):\n",
    "    z_min = z\n",
    "    z_max = z_min + width\n",
    "    d_zspec_cut = d[d['zspec'] > z_min]\n",
    "    d_zspec_cut = d_zspec_cut[d_zspec_cut['zspec'] < z_max]\n",
    "    diff = d_zspec_cut['zspec'] - d_zspec_cut['zredmagic']\n",
    "    mu, std = norm.fit(diff)\n",
    "    #compare if a distribution is gaussian or not\n",
    "    #std = np.std(diff)\n",
    "    std_list.append(std)\n",
    "    mu_list.append(mu)\n",
    "    z_spec_mean.append(np.mean(d_zspec_cut['zspec']))\n",
    "\n",
    "ax[0].axhline(y=0,xmin=0,xmax=1,linestyle='--',color='black',linewidth=3)\n",
    "ax[0].plot(z_spec_mean, std_list, marker='o', label='$\\sigma_z$')\n",
    "ax[0].plot(z_spec_mean, mu_list, marker='o', label='$\\mu$')\n",
    "\n",
    "z_linear = interp1d(z_spec_mean, std_list)\n",
    "ax[1].plot(z_spec_mean, z_linear(z_spec_mean), label='$\\sigma_z$ linear fit')\n",
    "\n",
    "d_zred_cut = z_cut(d, 'zredmagic', 0, z_high_lim)\n",
    "d_zspec_cut = z_cut(d, 'zspec', 0, z_high_lim)\n",
    "ax[2].hist(d_zred_cut['zredmagic'], normed=1, bins=20, histtype = 'step', label=\"$z_\\mathrm{redmagic}$\", linewidth=2) \n",
    "ax[2].hist(d_zspec_cut['zspec'], normed=1, bins=20, histtype='step', label=\"$z_\\mathrm{spec}$\", linewidth=2)\n",
    "ax[2].set_xlabel('$z_\\mathrm{spec}$', fontsize=15)\n",
    "\n",
    "for a in ax.flat:\n",
    "    a.tick_params(axis='both', which='both', labelsize=15, width=1.2)\n",
    "    a.legend(fontsize=15, framealpha=0.6, loc='upper left')\n",
    "\n",
    "plt.savefig(\"sigma_z_\" + str(width) + \"_\" + str(z_high_lim) + \".pdf\",dpi=300,bbox_inches='tight')"
   ]
  },
  {
   "cell_type": "code",
   "execution_count": null,
   "metadata": {},
   "outputs": [],
   "source": [
    "# Obtain zspec+noise (or zsepc_nor) from zspec within redshift range (0.1, 0.7)\n",
    "d_0107 = z_cut(d, 'zspec', 0.1, 0.7)\n",
    "zspec_0107 = d_0107['zspec']\n",
    "ra_0107 = d_0107['ra']\n",
    "dec_0107 = d_0107['dec']\n",
    "\n",
    "sigma_list = z_linear(zspec_0107)\n",
    "np.random.seed(200)\n",
    "err_list = np.random.normal(0, sigma_list)\n",
    "zspec_noise_0107 = [a + b for a,b in zip(zspec_0107, err_list)]\n",
    "# Create a mask with condition 0.3 < zspec_noise < 0.5 \n",
    "mask_0305 = [z < 0.5 and z > 0.3 for z in zspec_noise_0107]\n",
    "# Convert zspec_noise, ra_noise, and dec_noise to array\n",
    "zspec_noise_0107 = np.array(zspec_noise_0107)\n",
    "ra_0107 = np.array(ra_0107)\n",
    "dec_0107 = np.array(dec_0107)\n",
    "# Filter galaxies between redshift 0.3 and 0.5\n",
    "CZ_zspec_noise = 299792. * zspec_noise_0107[mask_0305]\n",
    "RA_zspec_noise = ra_0107[mask_0305]\n",
    "DEC_zspec_noise = dec_0107[mask_0305]\n",
    "# Create CZ random for zspec_noise\n",
    "np.random.seed(200)\n",
    "CZ_randzspec_noise = np.random.choice(CZ_zspec_noise, size=len(RA_rand), replace=True)"
   ]
  },
  {
   "cell_type": "markdown",
   "metadata": {},
   "source": [
    "## Read Redmapper Mock Halo FITS file"
   ]
  },
  {
   "cell_type": "code",
   "execution_count": null,
   "metadata": {},
   "outputs": [],
   "source": [
    "fname_redmap = 'halo_file/halos_Chinchilla-3_Y3a.fit'\n",
    "\n",
    "d_redmap, h_redmap = fitsio.read(fname_redmap, header=True)\n",
    "print h_redmap"
   ]
  },
  {
   "cell_type": "code",
   "execution_count": null,
   "metadata": {},
   "outputs": [],
   "source": [
    "d_zlam_zcut = z_cut(d_redmap, 'z_cosmo', z_low, z_high)\n",
    "d_zlam = mass_cut(d_zlam_zcut, 'M200', 1E14, 1E16)\n",
    "RA_zlam = d_zlam['ra']\n",
    "DEC_zlam = d_zlam['dec']\n",
    "CZ_zlam = 299792. * d_zlam['z_cosmo']\n",
    "\n",
    "print len(d_zlam)\n",
    "plt.hist(CZ_zlam/299792., normed=True, bins=50, histtype='step')"
   ]
  },
  {
   "cell_type": "code",
   "execution_count": null,
   "metadata": {},
   "outputs": [],
   "source": [
    "Mass_zlam = d_zlam['M200']\n",
    "plt.hist(np.log10(Mass_zlam), normed=True, bins=50, histtype='step')\n",
    "plt.yscale('log')"
   ]
  },
  {
   "cell_type": "markdown",
   "metadata": {},
   "source": [
    "## Read Redmapper Rand FITS file"
   ]
  },
  {
   "cell_type": "code",
   "execution_count": null,
   "metadata": {},
   "outputs": [],
   "source": [
    "rname_redmap = 'halo_file/halos_rand.fit'\n",
    "\n",
    "d_rand_redmap, h_rand_redmap = fitsio.read(rname_redmap, header=True)\n",
    "print h_rand_redmap"
   ]
  },
  {
   "cell_type": "code",
   "execution_count": null,
   "metadata": {},
   "outputs": [],
   "source": [
    "d_rand_redmap = z_cut(d_rand_redmap, 'z', z_low, z_high)[::100]\n",
    "\n",
    "RA_rand_redmap = d_rand_redmap['ra']\n",
    "DEC_rand_redmap = d_rand_redmap['dec']\n",
    "CZ_rand_redmap = 299792. * d_rand_redmap['z']\n",
    "print len(RA_rand_redmap)\n",
    "\n",
    "#plt.hist(CZ_rand_redmap, normed=True, bins=50) "
   ]
  },
  {
   "cell_type": "markdown",
   "metadata": {},
   "source": [
    "## Calculate $\\xi$  and $wp_{\\mathrm{cg}}$ with LZ estimator"
   ]
  },
  {
   "cell_type": "code",
   "execution_count": null,
   "metadata": {},
   "outputs": [],
   "source": [
    "# ND1 = float(len(RA_zred))\n",
    "# ND2 = float(len(RA_zlam))\n",
    "# NR1 = float(len(RA_rand))\n",
    "# NR2 = float(len(RA_rand_redmap))\n",
    "# ND1_zspec = float(len(RA_zspec_noise))\n",
    "# print ND1, ND1_zspec\n",
    "\n",
    "# # xi at some rp\n",
    "# xi_rp_zred = []\n",
    "# xi_rp_zspec = []\n",
    "\n",
    "# wpcg_zred = []\n",
    "# wpcg_zspec = []\n",
    "\n",
    "# pimax_list_wpcg = [200,150,100,50]\n",
    "# color = ['gray','black','darkgoldenrod','teal','red']\n",
    "# nrpbins = 20"
   ]
  },
  {
   "cell_type": "code",
   "execution_count": null,
   "metadata": {},
   "outputs": [],
   "source": [
    "# # Calculate wpcg using galaxy photo-z\n",
    "\n",
    "# #pimax_list_wpcg = [100]\n",
    "# pimax_list_wpcg = [150, 50]\n",
    "# bins = np.logspace(np.log10(0.3), np.log10(30.0), nrpbins + 1)\n",
    "# rp = (bins[0:-1] + bins[1:]) / 2.0\n",
    "# for pimax in pimax_list_wpcg:\n",
    "#     D1D2 = lz_cross(RA_zred, RA_zlam, DEC_zred, DEC_zlam, CZ_zred, CZ_zlam, nrpbins, pimax, 2, 8, 0.3, 30)\n",
    "#     D1R2 = lz_cross(RA_zred, RA_rand_redmap, DEC_zred, DEC_rand_redmap, CZ_zred, CZ_rand_redmap, nrpbins, pimax, 2, 8, 0.3, 30)\n",
    "#     D2R1 = lz_cross(RA_zlam, RA_rand, DEC_zlam, DEC_rand, CZ_zlam, CZ_rand, nrpbins, pimax, 2, 8, 0.3, 30)\n",
    "#     R1R2 = lz_cross(RA_rand, RA_rand_redmap, DEC_rand, DEC_rand_redmap, CZ_rand, CZ_rand_redmap, nrpbins, pimax, 2, 8, 0.3, 30)\n",
    "\n",
    "#     wp = convert_rp_pi_counts_to_wp(ND1, ND2, NR1, NR2, D1D2, D1R2, D2R1, R1R2, nrpbins, pimax,\n",
    "#                                 dpi=1.0, estimator='LS')\n",
    "#     wpcg_zred.append(wp)\n",
    "#     np.savetxt(\"wpcg_zred_halo_\" + str(pimax) + \".txt\", np.transpose(np.array([rp, wp])))\n",
    "#     np.savetxt(\"wpcg_zred_wp_halo_\" + str(pimax) + \".txt\", wp)\n",
    "#     np.savetxt(\"wpcg_zred_D1D2_halo_\" + str(pimax) + \".txt\", D1D2)\n",
    "#     np.savetxt(\"wpcg_zred_D1R2_halo_\" + str(pimax) + \".txt\", D1R2)\n",
    "#     np.savetxt(\"wpcg_zred_D2R1_halo_\" + str(pimax) + \".txt\", D2R1)\n",
    "#     np.savetxt(\"wpcg_zred_R1R2_halo_\" + str(pimax) + \".txt\", R1R2)\n",
    "\n",
    "\n",
    "# # Calculate wpcg using galaxy spec-z+noise\n",
    "# for pimax in pimax_list_wpcg:\n",
    "#     D1D2 = lz_cross(RA_zspec_noise, RA_zlam, DEC_zspec_noise, DEC_zlam, CZ_zspec_noise, CZ_zlam, nrpbins, pimax, 2, 8, 0.3, 30)\n",
    "#     D1R2 = lz_cross(RA_zspec_noise, RA_rand_redmap, DEC_zspec_noise, DEC_rand_redmap, CZ_zspec_noise, CZ_rand_redmap, \n",
    "#                     nrpbins, pimax, 2, 8, 0.3, 30)\n",
    "#     D2R1 = lz_cross(RA_zlam, RA_rand, DEC_zlam, DEC_rand, CZ_zlam, CZ_randzspec_noise, nrpbins, pimax, 2, 8, 0.3, 30)\n",
    "#     R1R2 = lz_cross(RA_rand, RA_rand_redmap, DEC_rand, DEC_rand_redmap, CZ_randzspec_noise, CZ_rand_redmap, \n",
    "#                     nrpbins, pimax, 2, 8, 0.3, 30)\n",
    "    \n",
    "#     wp = convert_rp_pi_counts_to_wp(ND1_zspec, ND2, NR1, NR2, D1D2, D1R2, D2R1, R1R2, nrpbins, pimax,\n",
    "#                                 dpi=1.0, estimator='LS')\n",
    "#     wpcg_zspec.append(wp)\n",
    "#     np.savetxt(\"wpcg_zspec_halo_\" + str(pimax) + \".txt\", np.transpose(np.array([rp, wp])))"
   ]
  },
  {
   "cell_type": "code",
   "execution_count": null,
   "metadata": {},
   "outputs": [],
   "source": [
    "# # Calculate wpcg using galaxy spec-z and wang's model\n",
    "# pimax_list_wpcg = [100]\n",
    "# #pimax_list_wpcg = [150, 50]\n",
    "# nrpbins = 100\n",
    "# bins = np.logspace(np.log10(0.1), np.log10(300.0), nrpbins + 1)\n",
    "# rp_300 = (bins[0:-1] + bins[1:]) / 2.0\n",
    "# for pimax in pimax_list_wpcg:\n",
    "#     D1D2 = lz_cross(RA_zspec, RA_zlam, DEC_zspec, DEC_zlam, CZ_zspec, CZ_zlam, nrpbins, pimax, 2, 8, 0.1, 300)\n",
    "#     D1R2 = lz_cross(RA_zspec, RA_rand_redmap, DEC_zspec, DEC_rand_redmap, CZ_zspec, CZ_rand_redmap, \n",
    "#                     nrpbins, pimax, 2, 8, 0.1, 300)\n",
    "#     D2R1 = lz_cross(RA_zlam, RA_rand, DEC_zlam, DEC_rand, CZ_zlam, CZ_randzspec, nrpbins, pimax, 2, 8, 0.1, 300)\n",
    "#     R1R2 = lz_cross(RA_rand, RA_rand_redmap, DEC_rand, DEC_rand_redmap, CZ_randzspec, CZ_rand_redmap, \n",
    "#                     nrpbins, pimax, 2, 8, 0.1, 300)\n",
    "    \n",
    "#     wp = convert_rp_pi_counts_to_wp(ND1_zspec, ND2, NR1, NR2, D1D2, D1R2, D2R1, R1R2, nrpbins, pimax,\n",
    "#                                 dpi=1.0, estimator='LS')\n",
    "#     wpcg_zspec.append(wp)\n",
    "#     np.savetxt(\"wpcg_zspec_300_halo_\" + str(pimax) + \".txt\", np.transpose(np.array([rp_300, wp])))"
   ]
  },
  {
   "cell_type": "code",
   "execution_count": null,
   "metadata": {},
   "outputs": [],
   "source": [
    "# rp_zspec_300 = np.loadtxt(\"wpcg_zspec_300_halo_100.txt\")[:,0]\n",
    "# wpcg_zspec_300 = np.loadtxt(\"wpcg_zspec_300_halo_100.txt\")[:,1]\n",
    "\n",
    "# rp_zspec_50 = np.loadtxt(\"wpcg_zspec_halo_50.txt\")[:,0]\n",
    "# wpcg_zspec_50 = np.loadtxt(\"wpcg_zspec_halo_50.txt\")[:,1]\n",
    "\n",
    "# rp_zspec_150 = np.loadtxt(\"wpcg_zspec_halo_150.txt\")[:,0]\n",
    "# wpcg_zspec_150 = np.loadtxt(\"wpcg_zspec_halo_150.txt\")[:,1]\n",
    "\n",
    "# rp_zspec_100 = np.loadtxt(\"wpcg_zspec_halo_100.txt\")[:,0]\n",
    "# wpcg_zspec_100 = np.loadtxt(\"wpcg_zspec_halo_100.txt\")[:,1]\n",
    "\n",
    "# rp_zred_50 = np.loadtxt(\"wpcg_zred_halo_50.txt\")[:,0]\n",
    "# wpcg_zred_50 = np.loadtxt(\"wpcg_zred_halo_50.txt\")[:,1]\n",
    "\n",
    "# rp_zred_150 = np.loadtxt(\"wpcg_zred_halo_150.txt\")[:,0]\n",
    "# wpcg_zred_150 = np.loadtxt(\"wpcg_zred_halo_150.txt\")[:,1]\n",
    "\n",
    "# rp_zred_100 = np.loadtxt(\"wpcg_zred_halo_100.txt\")[:,0]\n",
    "# wpcg_zred_100 = np.loadtxt(\"wpcg_zred_halo_100.txt\")[:,1]"
   ]
  },
  {
   "cell_type": "code",
   "execution_count": null,
   "metadata": {},
   "outputs": [],
   "source": [
    "# # Calculate xi from wp using Inv Abel using zspec, running slowly, do not need to rerun\n",
    "# r_zspec_inv_abel, xi_zspec_inv_abel = xi_inv_abel(rp_zspec_300, wpcg_zspec_300, 0.15, 270)\n",
    "# np.savetxt(\"wpcg_zspec_xi_inv_abel_halo\" + \".txt\", np.transpose(np.array([r_zspec_inv_abel, xi_zspec_inv_abel])))"
   ]
  },
  {
   "cell_type": "code",
   "execution_count": null,
   "metadata": {},
   "outputs": [],
   "source": [
    "# # Calculate wpcg from Inv Abel using zspec and wang's model\n",
    "# r_zspec_inv_abel = np.loadtxt(\"wpcg_zspec_xi_inv_abel_halo.txt\")[:,0]\n",
    "# xi_zspec_inv_abel = np.loadtxt(\"wpcg_zspec_xi_inv_abel_halo.txt\")[:,1]\n",
    "# model_zspec_inv_abel = xi_r_interpolate(r_zspec_inv_abel, xi_zspec_inv_abel)\n",
    "# rp_wang, pi_wang, xi_wang_100, wpcg_wang_100, f = xi_matrix_model(model_zspec_inv_abel, 20, 100, 1.0)"
   ]
  },
  {
   "cell_type": "code",
   "execution_count": null,
   "metadata": {},
   "outputs": [],
   "source": [
    "# wpcg_zred_30 = np.loadtxt(\"wpcg_zred_wp_halo_100.txt\")\n",
    "# print(len(wpcg_zred_30))\n",
    "# print(len(wpcg_wang))"
   ]
  },
  {
   "cell_type": "code",
   "execution_count": null,
   "metadata": {},
   "outputs": [],
   "source": [
    "# rp_zspec_300_150 = np.loadtxt(\"wpcg_zspec_300_halo_150.txt\")[:,0]\n",
    "# wpcg_zspec_300_150 = np.loadtxt(\"wpcg_zspec_300_halo_150.txt\")[:,1]"
   ]
  },
  {
   "cell_type": "code",
   "execution_count": null,
   "metadata": {},
   "outputs": [],
   "source": [
    "# # Calculate xi from wp using Inv Abel using zspec, running slowly, do not need to rerun\n",
    "# r_zspec_inv_abel, xi_zspec_inv_abel = xi_inv_abel(rp_zspec_300_150, wpcg_zspec_300_150, 0.15, 270)\n",
    "# np.savetxt(\"wpcg_zspec_xi_inv_abel_150_halo\" + \".txt\", np.transpose(np.array([r_zspec_inv_abel, xi_zspec_inv_abel])))"
   ]
  },
  {
   "cell_type": "code",
   "execution_count": null,
   "metadata": {},
   "outputs": [],
   "source": [
    "# # Calculate wpcg from Inv Abel using zspec and wang's model\n",
    "# r_zspec_inv_abel = np.loadtxt(\"wpcg_zspec_xi_inv_abel_150_halo.txt\")[:,0]\n",
    "# xi_zspec_inv_abel = np.loadtxt(\"wpcg_zspec_xi_inv_abel_150_halo.txt\")[:,1]\n",
    "# model_zspec_inv_abel_150 = xi_r_interpolate(r_zspec_inv_abel, xi_zspec_inv_abel)\n",
    "# rp_wang_150, pi_wang_150, xi_wang_150, wpcg_wang_150, f_150 = xi_matrix_model(model_zspec_inv_abel_150, 20, 150, 1.0)"
   ]
  },
  {
   "cell_type": "code",
   "execution_count": null,
   "metadata": {},
   "outputs": [],
   "source": [
    "# rp_zspec_300_50 = np.loadtxt(\"wpcg_zspec_300_halo_50.txt\")[:,0]\n",
    "# wpcg_zspec_300_50 = np.loadtxt(\"wpcg_zspec_300_halo_50.txt\")[:,1]"
   ]
  },
  {
   "cell_type": "code",
   "execution_count": null,
   "metadata": {},
   "outputs": [],
   "source": [
    "# # Calculate xi from wp using Inv Abel using zspec, running slowly, do not need to rerun\n",
    "# r_zspec_inv_abel, xi_zspec_inv_abel = xi_inv_abel(rp_zspec_300_50, wpcg_zspec_300_50, 0.15, 270)\n",
    "# np.savetxt(\"wpcg_zspec_xi_inv_abel_50_halo\" + \".txt\", np.transpose(np.array([r_zspec_inv_abel, xi_zspec_inv_abel])))"
   ]
  },
  {
   "cell_type": "code",
   "execution_count": null,
   "metadata": {},
   "outputs": [],
   "source": [
    "# # Calculate wpcg from Inv Abel using zspec and wang's model\n",
    "# r_zspec_inv_abel = np.loadtxt(\"wpcg_zspec_xi_inv_abel_50_halo.txt\")[:,0]\n",
    "# xi_zspec_inv_abel = np.loadtxt(\"wpcg_zspec_xi_inv_abel_50_halo.txt\")[:,1]\n",
    "# model_zspec_inv_abel_50 = xi_r_interpolate(r_zspec_inv_abel, xi_zspec_inv_abel)\n",
    "# rp_wang_50, pi_wang_50, xi_wang_50, wpcg_wang_50, f_50 = xi_matrix_model(model_zspec_inv_abel_50, 20, 50, 1.0)"
   ]
  },
  {
   "cell_type": "code",
   "execution_count": null,
   "metadata": {},
   "outputs": [],
   "source": [
    "# print len(rp), len(wpcg_zred_150)"
   ]
  },
  {
   "cell_type": "code",
   "execution_count": null,
   "metadata": {},
   "outputs": [],
   "source": [
    "# # Plot wpcg vs rp\n",
    "# fig = plt.figure()\n",
    "# # set height ratios for sublots\n",
    "# gs = gridspec.GridSpec(2, 1, height_ratios=[2, 1]) \n",
    "\n",
    "# nrpbins = 20\n",
    "# bins = np.logspace(np.log10(0.3), np.log10(30.0), nrpbins + 1)\n",
    "# rp = (bins[0:-1] + bins[1:]) / 2.0\n",
    "# # the fisrt subplot\n",
    "# ax0 = plt.subplot(gs[0])\n",
    "# # log scale for axis Y of the first subplot\n",
    "# ax0.set_yscale(\"log\")\n",
    "# ax0.set_xscale(\"log\")\n",
    "# ax0.set_ylabel(\"w$_{p,\\mathrm{cg}}$\")\n",
    "# line2, = ax0.plot(rp, wpcg_zred_50, color='black', linestyle=':')\n",
    "# line4, = ax0.plot(rp, wpcg_zspec_50, color='grey', linestyle='solid')\n",
    "# line7, = ax0.plot(rp_wang, wpcg_wang_50, color='green', linestyle='-.')\n",
    "\n",
    "# #the second subplot\n",
    "# # shared axis X\n",
    "# ax1 = plt.subplot(gs[1], sharex = ax0)\n",
    "# line5, = ax1.plot(rp, [m/n for m, n in zip(wpcg_zspec_50, wpcg_zred_50)], color='grey', linestyle='solid')\n",
    "# line6, = ax1.plot(rp, [m/n for m, n in zip(wpcg_wang_50, wpcg_zred_50)], color='green', linestyle='-.')\n",
    "# plt.setp(ax0.get_xticklabels(), visible=False)\n",
    "# ax1.set_xlabel(\"rp ($h^{-1}$Mpc)\")\n",
    "# # remove last tick label for the second subplot\n",
    "# yticks = ax1.yaxis.get_major_ticks()\n",
    "# yticks[-1].label1.set_visible(False)\n",
    "\n",
    "# # put legend on first subplot\n",
    "# ax0.legend((line2, line4, line7), ('zred_DDrppi_mock', \n",
    "#                                           'zspec_noise', 'zspec_inv_abel_wang'), loc='lower left', fontsize=10)\n",
    "\n",
    "# # remove vertical gap between subplots\n",
    "# plt.subplots_adjust(hspace=.0)\n",
    "# plt.show()\n",
    "# plt.savefig(\"redmapper_wpcg_halo.pdf\",dpi=300,bbox_inches='tight')"
   ]
  },
  {
   "cell_type": "markdown",
   "metadata": {},
   "source": [
    "# Calculate and Plot xihg and the ratio with ximm_Andres"
   ]
  },
  {
   "cell_type": "code",
   "execution_count": null,
   "metadata": {},
   "outputs": [],
   "source": [
    "ND1 = float(len(RA_zred))\n",
    "ND2 = float(len(RA_zlam))\n",
    "NR1 = float(len(RA_rand))\n",
    "NR2 = float(len(RA_rand_redmap))\n",
    "ND1_zspec = float(len(RA_zspec_noise))\n",
    "print ND1, ND1_zspec, ND2\n",
    "\n",
    "pimax_list_wpcg = [200,150,100,50]\n",
    "color = ['gray','black','darkgoldenrod','teal','red']"
   ]
  },
  {
   "cell_type": "code",
   "execution_count": null,
   "metadata": {},
   "outputs": [],
   "source": [
    "# Calculate wphg using galaxy spec-z and wang's model\n",
    "pimax_list_wpcg = [100]\n",
    "#pimax_list_wpcg = [150, 50]\n",
    "nrpbins = 15\n",
    "bins = np.logspace(np.log10(0.1), np.log10(300.0), nrpbins + 1)\n",
    "rp_300 = (bins[0:-1] + bins[1:]) / 2.0\n",
    "for pimax in pimax_list_wpcg:\n",
    "    D1D2 = lz_cross(RA_zspec, RA_zlam, DEC_zspec, DEC_zlam, CZ_zspec, CZ_zlam, nrpbins, pimax, 2, 8, 0.1, 300)\n",
    "    D1R2 = lz_cross(RA_zspec, RA_rand_redmap, DEC_zspec, DEC_rand_redmap, CZ_zspec, CZ_rand_redmap, \n",
    "                    nrpbins, pimax, 2, 8, 0.1, 300)\n",
    "    D2R1 = lz_cross(RA_zlam, RA_rand, DEC_zlam, DEC_rand, CZ_zlam, CZ_randzspec, nrpbins, pimax, 2, 8, 0.1, 300)\n",
    "    R1R2 = lz_cross(RA_rand, RA_rand_redmap, DEC_rand, DEC_rand_redmap, CZ_randzspec, CZ_rand_redmap, \n",
    "                    nrpbins, pimax, 2, 8, 0.1, 300)\n",
    "    \n",
    "    wp = convert_rp_pi_counts_to_wp(ND1_zspec, ND2, NR1, NR2, D1D2, D1R2, D2R1, R1R2, nrpbins, pimax,\n",
    "                                dpi=1.0, estimator='LS')\n",
    "    np.savetxt(\"wphg_zspec_300_halo_mass_cut_\" + str(pimax) + \".txt\", np.transpose(np.array([rp_300, wp])))"
   ]
  },
  {
   "cell_type": "code",
   "execution_count": 2,
   "metadata": {},
   "outputs": [],
   "source": [
    "r_ximm_min = np.loadtxt(\"ximm_Andres.txt\")[1:33,0]\n",
    "r_ximm_max = np.loadtxt(\"ximm_Andres.txt\")[1:33,1]\n",
    "r_ximm = (r_ximm_min + r_ximm_max) / 2\n",
    "ximm = np.loadtxt(\"ximm_Andres.txt\")[1:33,3]"
   ]
  },
  {
   "cell_type": "code",
   "execution_count": 4,
   "metadata": {},
   "outputs": [],
   "source": [
    "# (for plotting) Calculate xihg from wp using Inv Abel using zspec, running slowly, do not need to rerun\n",
    "rp_zspec_300 = np.loadtxt(\"wphg_zspec_300_halo_mass_cut_100.txt\")[:,0]\n",
    "wphg_zspec_300 = np.loadtxt(\"wphg_zspec_300_halo_mass_cut_100.txt\")[:,1]\n",
    "r_zspec_inv_abel, xi_zspec_inv_abel = xi_inv_abel(rp_zspec_300, wphg_zspec_300, 1.5, 130, 40)\n",
    "np.savetxt(\"xihg_zspec_inv_abel_mass_cut\" + \".txt\", np.transpose(np.array([r_zspec_inv_abel, xi_zspec_inv_abel])))"
   ]
  },
  {
   "cell_type": "code",
   "execution_count": 5,
   "metadata": {},
   "outputs": [],
   "source": [
    "r_zspec_inv_abel = np.loadtxt(\"xihg_zspec_inv_abel_mass_cut.txt\")[1:33,0]\n",
    "xi_zspec_inv_abel = np.loadtxt(\"xihg_zspec_inv_abel_mass_cut.txt\")[1:33,1]"
   ]
  },
  {
   "cell_type": "code",
   "execution_count": 8,
   "metadata": {},
   "outputs": [
    {
     "data": {
      "image/png": "[encoded data removed]",
      "text/plain": [
       "<Figure size 432x648 with 2 Axes>"
      ]
     },
     "metadata": {},
     "output_type": "display_data"
    }
   ],
   "source": [
    "# Plot xicg vs rp\n",
    "fig = plt.figure(figsize=(6, 9))\n",
    "# set height ratios for sublots\n",
    "gs = gridspec.GridSpec(2, 1, height_ratios=[2, 1]) \n",
    "\n",
    "# the fisrt subplot\n",
    "ax0 = plt.subplot(gs[0])\n",
    "# log scale for axis Y of the first subplot\n",
    "ax0.set_yscale(\"log\")\n",
    "ax0.set_xscale(\"log\")\n",
    "ax0.set_ylabel(\"$\\\\xi$\")\n",
    "line1, = ax0.plot(r_ximm, ximm, color='black', linestyle=':')\n",
    "line2, = ax0.plot(r_ximm, xi_zspec_inv_abel, color='green', linestyle='-.')\n",
    "\n",
    "#the second subplot\n",
    "# shared axis X\n",
    "ax1 = plt.subplot(gs[1], sharex = ax0)\n",
    "line3, = ax1.plot(r_ximm, [m/n for m, n in zip(xi_zspec_inv_abel, ximm)], color='green', linestyle='solid')\n",
    "plt.setp(ax0.get_xticklabels(), visible=False)\n",
    "ax1.set_xlabel(\"r ($h^{-1}$Mpc)\")\n",
    "ax1.set_ylim(0,5)\n",
    "# remove last tick label for the second subplot\n",
    "yticks = ax1.yaxis.get_major_ticks()\n",
    "yticks[-1].label1.set_visible(False)\n",
    "\n",
    "# put legend on first subplot\n",
    "ax0.legend((line2, line1), ('$\\\\xi_{hg}$', '$\\\\xi_{mm}$'), loc='lower left', fontsize=18)\n",
    "\n",
    "# remove vertical gap between subplots\n",
    "plt.subplots_adjust(hspace=.0)\n",
    "plt.savefig(\"xihg_vs_ximm.pdf\",dpi=300,bbox_inches='tight')\n",
    "plt.show()"
   ]
  },
  {
   "cell_type": "markdown",
   "metadata": {},
   "source": [
    "# Calculate and Plot xihh and the ratio with ximm_Andres"
   ]
  },
  {
   "cell_type": "code",
   "execution_count": null,
   "metadata": {},
   "outputs": [],
   "source": [
    "ND1 = float(len(RA_zred))\n",
    "ND2 = float(len(RA_zlam))\n",
    "NR1 = float(len(RA_rand))\n",
    "NR2 = float(len(RA_rand_redmap))\n",
    "ND1_zspec = float(len(RA_zspec_noise))\n",
    "\n",
    "pimax_list_wpcg = [100]\n",
    "#nrpbins = 100 # 100 could be too large for halo-halo autocorrelation\n",
    "nrpbins = 15 # try 15 first\n",
    "bins = np.logspace(np.log10(0.1), np.log10(300.0), nrpbins + 1)\n",
    "rp_300 = (bins[0:-1] + bins[1:]) / 2.0\n",
    "for pimax in pimax_list_wpcg:\n",
    "    D1D2 = lz_cross(RA_zlam, RA_zlam, DEC_zlam, DEC_zlam, CZ_zlam, CZ_zlam, nrpbins, pimax, 2, 8, 0.1, 300)\n",
    "    D1R2 = lz_cross(RA_zlam, RA_rand_redmap, DEC_zlam, DEC_rand_redmap, CZ_zlam, CZ_rand_redmap, nrpbins, pimax, 2, 8, 0.1, 300)\n",
    "    D2R1 = lz_cross(RA_zlam, RA_rand_redmap, DEC_zlam, DEC_rand_redmap, CZ_zlam, CZ_rand_redmap, nrpbins, pimax, 2, 8, 0.1, 300)\n",
    "    R1R2 = lz_cross(RA_rand_redmap, RA_rand_redmap, DEC_rand_redmap, DEC_rand_redmap, CZ_rand_redmap, CZ_rand_redmap, \n",
    "                    nrpbins, pimax, 2, 8, 0.1, 300)\n",
    "    \n",
    "    wp = convert_rp_pi_counts_to_wp(ND1_zspec, ND2, NR1, NR2, D1D2, D1R2, D2R1, R1R2, nrpbins, pimax,\n",
    "                                dpi=1.0, estimator='LS')\n",
    "    np.savetxt(\"wphh_zspec_300_halo_mass_cut\" + str(pimax) + \".txt\", np.transpose(np.array([rp_300, wp])))"
   ]
  },
  {
   "cell_type": "code",
   "execution_count": null,
   "metadata": {},
   "outputs": [],
   "source": [
    "r_ximm_min = np.loadtxt(\"ximm_Andres.txt\")[1:33,0]\n",
    "r_ximm_max = np.loadtxt(\"ximm_Andres.txt\")[1:33,1]\n",
    "r_ximm = (r_ximm_min + r_ximm_max) / 2\n",
    "ximm = np.loadtxt(\"ximm_Andres.txt\")[1:33,3]"
   ]
  },
  {
   "cell_type": "code",
   "execution_count": null,
   "metadata": {},
   "outputs": [],
   "source": [
    "# (for plotting) Calculate xihh from wp using Inv Abel using zspec, running slowly, do not need to rerun\n",
    "rp_zspec_300 = np.loadtxt(\"wphh_zspec_300_halo_mass_cut100.txt\")[:,0]\n",
    "wphh_zspec_300 = np.loadtxt(\"wphh_zspec_300_halo_mass_cut100.txt\")[:,1]\n",
    "r_zspec_inv_abel, xi_zspec_inv_abel = xi_inv_abel(rp_zspec_300, wphh_zspec_300, 1.5, 130, 40)\n",
    "np.savetxt(\"xihh_zspec_inv_abel_mass_cut\" + \".txt\", np.transpose(np.array([r_zspec_inv_abel, xi_zspec_inv_abel])))"
   ]
  },
  {
   "cell_type": "code",
   "execution_count": null,
   "metadata": {},
   "outputs": [],
   "source": [
    "r_zspec_inv_abel = np.loadtxt(\"xihh_zspec_inv_abel_mass_cut.txt\")[1:33,0]\n",
    "xi_zspec_inv_abel = np.loadtxt(\"xihh_zspec_inv_abel_mass_cut.txt\")[1:33,1]"
   ]
  },
  {
   "cell_type": "code",
   "execution_count": null,
   "metadata": {},
   "outputs": [],
   "source": [
    "# Plot xicg vs rp\n",
    "fig = plt.figure(figsize=(6, 9))\n",
    "# set height ratios for sublots\n",
    "gs = gridspec.GridSpec(2, 1, height_ratios=[2, 1]) \n",
    "\n",
    "# the fisrt subplot\n",
    "ax0 = plt.subplot(gs[0])\n",
    "# log scale for axis Y of the first subplot\n",
    "ax0.set_yscale(\"log\")\n",
    "ax0.set_xscale(\"log\")\n",
    "ax0.set_ylabel(\"$\\\\xi$\")\n",
    "line1, = ax0.plot(r_ximm, ximm, color='black', linestyle=':')\n",
    "line2, = ax0.plot(r_ximm, xi_zspec_inv_abel, color='green', linestyle='-.')\n",
    "\n",
    "#the second subplot\n",
    "# shared axis X\n",
    "ax1 = plt.subplot(gs[1], sharex = ax0)\n",
    "line3, = ax1.plot(r_ximm, [m/n for m, n in zip(xi_zspec_inv_abel, ximm)], color='green', linestyle='solid')\n",
    "plt.setp(ax0.get_xticklabels(), visible=False)\n",
    "ax1.set_xlabel(\"r ($h^{-1}$Mpc)\")\n",
    "# remove last tick label for the second subplot\n",
    "yticks = ax1.yaxis.get_major_ticks()\n",
    "yticks[-1].label1.set_visible(False)\n",
    "\n",
    "# put legend on first subplot\n",
    "ax0.legend((line2, line1), ('$\\\\xi_{hh}$', '$\\\\xi_{mm}$'), loc='lower left', fontsize=18)\n",
    "\n",
    "# remove vertical gap between subplots\n",
    "plt.subplots_adjust(hspace=.0)\n",
    "plt.savefig(\"xihh_vs_ximm.pdf\",dpi=300,bbox_inches='tight')\n",
    "plt.show()"
   ]
  },
  {
   "cell_type": "code",
   "execution_count": null,
   "metadata": {},
   "outputs": [],
   "source": []
  }
 ],
 "metadata": {
  "kernelspec": {
   "display_name": "Python 2.7 (Conda 5.2) [python/2.7-conda5.2]",
   "language": "python",
   "name": "sys_python27conda"
  },
  "language_info": {
   "codemirror_mode": {
    "name": "ipython",
    "version": 2
   },
   "file_extension": ".py",
   "mimetype": "text/x-python",
   "name": "python",
   "nbconvert_exporter": "python",
   "pygments_lexer": "ipython2",
   "version": "2.7.15"
  }
 },
 "nbformat": 4,
 "nbformat_minor": 2
}
